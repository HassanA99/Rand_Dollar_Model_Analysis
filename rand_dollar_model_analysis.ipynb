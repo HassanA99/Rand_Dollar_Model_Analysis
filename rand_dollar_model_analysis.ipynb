{
  "nbformat": 4,
  "nbformat_minor": 0,
  "metadata": {
    "colab": {
      "provenance": []
    },
    "kernelspec": {
      "name": "python3",
      "display_name": "Python 3"
    },
    "language_info": {
      "name": "python"
    }
  },
  "cells": [
    {
      "cell_type": "markdown",
      "source": [
        "# Import Necessary Library\n"
      ],
      "metadata": {
        "id": "ew0eALPcuUSv"
      }
    },
    {
      "cell_type": "code",
      "source": [
        "import pandas as pd\n",
        "\n",
        "from sklearn.model_selection import train_test_split\n",
        "from sklearn.linear_model import LinearRegression\n",
        "from sklearn.metrics import mean_squared_error\n",
        "from sklearn.metrics import r2_score\n",
        "from sklearn.preprocessing import StandardScaler\n",
        "from sklearn.linear_model import Ridge, Lasso\n"
      ],
      "metadata": {
        "id": "XOKmp82GuPMf"
      },
      "execution_count": null,
      "outputs": []
    },
    {
      "cell_type": "markdown",
      "source": [
        "# Load and Prepare Data"
      ],
      "metadata": {
        "id": "z6gbfpCIuKu6"
      }
    },
    {
      "cell_type": "code",
      "source": [
        "# Load the dataset\n",
        "data = pd.read_csv('rand-dollar.csv', index_col=0)\n",
        "\n",
        "# Separate features (X) and target variable (y)\n",
        "X1 = data.drop('ZAR/USD', axis=1)  # All columns except 'ZAR/USD'\n",
        "y1 = data['ZAR/USD']\n",
        "\n",
        "# Split data into training and testing sets\n",
        "X_train, X_test, y_train, y_test = train_test_split(X1, y1, test_size=0.2, shuffle=False)\n"
      ],
      "metadata": {
        "id": "Q2uq9BvTudow"
      },
      "execution_count": null,
      "outputs": []
    },
    {
      "cell_type": "code",
      "source": [
        "data.tail()"
      ],
      "metadata": {
        "colab": {
          "base_uri": "https://localhost:8080/",
          "height": 241
        },
        "id": "6ajwjPmYugat",
        "outputId": "3fa5d822-66a8-4d77-c785-48c68dd49161"
      },
      "execution_count": null,
      "outputs": [
        {
          "output_type": "execute_result",
          "data": {
            "text/plain": [
              "         ZAR/USD  Value of Exports (USD)  Value of Exports (ZAR)  \\\n",
              "2017M08    13.23                 7799.19               103199.17   \n",
              "2017M09    13.16                 7761.13               102150.48   \n",
              "2017M10    13.71                 7601.50               104205.42   \n",
              "2017M11    14.06                 8264.55               116185.99   \n",
              "2017M12    13.25                 7874.08               104320.26   \n",
              "\n",
              "         Value of Imports (USD)  Value of Imports (ZAR)  \\\n",
              "2017M08                 7724.11               102205.79   \n",
              "2017M09                 7810.59               102801.49   \n",
              "2017M10                 7661.57               105028.95   \n",
              "2017M11                 7704.40               108311.23   \n",
              "2017M12                 7068.85                93652.18   \n",
              "\n",
              "         IMF Reserve Position (USD)  Foreign Exchange (USD)  \\\n",
              "2017M08                      661.54                 38889.0   \n",
              "2017M09                      661.50                 41424.0   \n",
              "2017M10                      656.62                 41018.0   \n",
              "2017M11                      654.14                 42372.0   \n",
              "2017M12                      638.23                 42735.0   \n",
              "\n",
              "         Claims on Non-residents (USD)  Liabilities to Non-residents (USD)  \\\n",
              "2017M08                       43768.32                            33965.83   \n",
              "2017M09                       44318.40                            34351.03   \n",
              "2017M10                       44003.77                            34206.03   \n",
              "2017M11                       42813.27                            32917.80   \n",
              "2017M12                       47101.71                            37918.26   \n",
              "\n",
              "         Savings Rate  Lending Rate  Government Bonds  \\\n",
              "2017M08          4.36         10.25              9.12   \n",
              "2017M09          4.40         10.25              9.04   \n",
              "2017M10          4.41         10.25              9.40   \n",
              "2017M11          4.42         10.25              9.77   \n",
              "2017M12          4.44         10.25              9.47   \n",
              "\n",
              "         Financial Market Prices, Equities Index  Consumer Price Index  \n",
              "2017M08                                   167.16                146.40  \n",
              "2017M09                                   168.34                147.11  \n",
              "2017M10                                   175.15                147.53  \n",
              "2017M11                                   178.42                147.67  \n",
              "2017M12                                   170.16                148.38  "
            ],
            "text/html": [
              "\n",
              "  <div id=\"df-1b8efb1a-4b70-4bf2-9766-02b12b8c8856\" class=\"colab-df-container\">\n",
              "    <div>\n",
              "<style scoped>\n",
              "    .dataframe tbody tr th:only-of-type {\n",
              "        vertical-align: middle;\n",
              "    }\n",
              "\n",
              "    .dataframe tbody tr th {\n",
              "        vertical-align: top;\n",
              "    }\n",
              "\n",
              "    .dataframe thead th {\n",
              "        text-align: right;\n",
              "    }\n",
              "</style>\n",
              "<table border=\"1\" class=\"dataframe\">\n",
              "  <thead>\n",
              "    <tr style=\"text-align: right;\">\n",
              "      <th></th>\n",
              "      <th>ZAR/USD</th>\n",
              "      <th>Value of Exports (USD)</th>\n",
              "      <th>Value of Exports (ZAR)</th>\n",
              "      <th>Value of Imports (USD)</th>\n",
              "      <th>Value of Imports (ZAR)</th>\n",
              "      <th>IMF Reserve Position (USD)</th>\n",
              "      <th>Foreign Exchange (USD)</th>\n",
              "      <th>Claims on Non-residents (USD)</th>\n",
              "      <th>Liabilities to Non-residents (USD)</th>\n",
              "      <th>Savings Rate</th>\n",
              "      <th>Lending Rate</th>\n",
              "      <th>Government Bonds</th>\n",
              "      <th>Financial Market Prices, Equities Index</th>\n",
              "      <th>Consumer Price Index</th>\n",
              "    </tr>\n",
              "  </thead>\n",
              "  <tbody>\n",
              "    <tr>\n",
              "      <th>2017M08</th>\n",
              "      <td>13.23</td>\n",
              "      <td>7799.19</td>\n",
              "      <td>103199.17</td>\n",
              "      <td>7724.11</td>\n",
              "      <td>102205.79</td>\n",
              "      <td>661.54</td>\n",
              "      <td>38889.0</td>\n",
              "      <td>43768.32</td>\n",
              "      <td>33965.83</td>\n",
              "      <td>4.36</td>\n",
              "      <td>10.25</td>\n",
              "      <td>9.12</td>\n",
              "      <td>167.16</td>\n",
              "      <td>146.40</td>\n",
              "    </tr>\n",
              "    <tr>\n",
              "      <th>2017M09</th>\n",
              "      <td>13.16</td>\n",
              "      <td>7761.13</td>\n",
              "      <td>102150.48</td>\n",
              "      <td>7810.59</td>\n",
              "      <td>102801.49</td>\n",
              "      <td>661.50</td>\n",
              "      <td>41424.0</td>\n",
              "      <td>44318.40</td>\n",
              "      <td>34351.03</td>\n",
              "      <td>4.40</td>\n",
              "      <td>10.25</td>\n",
              "      <td>9.04</td>\n",
              "      <td>168.34</td>\n",
              "      <td>147.11</td>\n",
              "    </tr>\n",
              "    <tr>\n",
              "      <th>2017M10</th>\n",
              "      <td>13.71</td>\n",
              "      <td>7601.50</td>\n",
              "      <td>104205.42</td>\n",
              "      <td>7661.57</td>\n",
              "      <td>105028.95</td>\n",
              "      <td>656.62</td>\n",
              "      <td>41018.0</td>\n",
              "      <td>44003.77</td>\n",
              "      <td>34206.03</td>\n",
              "      <td>4.41</td>\n",
              "      <td>10.25</td>\n",
              "      <td>9.40</td>\n",
              "      <td>175.15</td>\n",
              "      <td>147.53</td>\n",
              "    </tr>\n",
              "    <tr>\n",
              "      <th>2017M11</th>\n",
              "      <td>14.06</td>\n",
              "      <td>8264.55</td>\n",
              "      <td>116185.99</td>\n",
              "      <td>7704.40</td>\n",
              "      <td>108311.23</td>\n",
              "      <td>654.14</td>\n",
              "      <td>42372.0</td>\n",
              "      <td>42813.27</td>\n",
              "      <td>32917.80</td>\n",
              "      <td>4.42</td>\n",
              "      <td>10.25</td>\n",
              "      <td>9.77</td>\n",
              "      <td>178.42</td>\n",
              "      <td>147.67</td>\n",
              "    </tr>\n",
              "    <tr>\n",
              "      <th>2017M12</th>\n",
              "      <td>13.25</td>\n",
              "      <td>7874.08</td>\n",
              "      <td>104320.26</td>\n",
              "      <td>7068.85</td>\n",
              "      <td>93652.18</td>\n",
              "      <td>638.23</td>\n",
              "      <td>42735.0</td>\n",
              "      <td>47101.71</td>\n",
              "      <td>37918.26</td>\n",
              "      <td>4.44</td>\n",
              "      <td>10.25</td>\n",
              "      <td>9.47</td>\n",
              "      <td>170.16</td>\n",
              "      <td>148.38</td>\n",
              "    </tr>\n",
              "  </tbody>\n",
              "</table>\n",
              "</div>\n",
              "    <div class=\"colab-df-buttons\">\n",
              "\n",
              "  <div class=\"colab-df-container\">\n",
              "    <button class=\"colab-df-convert\" onclick=\"convertToInteractive('df-1b8efb1a-4b70-4bf2-9766-02b12b8c8856')\"\n",
              "            title=\"Convert this dataframe to an interactive table.\"\n",
              "            style=\"display:none;\">\n",
              "\n",
              "  <svg xmlns=\"http://www.w3.org/2000/svg\" height=\"24px\" viewBox=\"0 -960 960 960\">\n",
              "    <path d=\"M120-120v-720h720v720H120Zm60-500h600v-160H180v160Zm220 220h160v-160H400v160Zm0 220h160v-160H400v160ZM180-400h160v-160H180v160Zm440 0h160v-160H620v160ZM180-180h160v-160H180v160Zm440 0h160v-160H620v160Z\"/>\n",
              "  </svg>\n",
              "    </button>\n",
              "\n",
              "  <style>\n",
              "    .colab-df-container {\n",
              "      display:flex;\n",
              "      gap: 12px;\n",
              "    }\n",
              "\n",
              "    .colab-df-convert {\n",
              "      background-color: #E8F0FE;\n",
              "      border: none;\n",
              "      border-radius: 50%;\n",
              "      cursor: pointer;\n",
              "      display: none;\n",
              "      fill: #1967D2;\n",
              "      height: 32px;\n",
              "      padding: 0 0 0 0;\n",
              "      width: 32px;\n",
              "    }\n",
              "\n",
              "    .colab-df-convert:hover {\n",
              "      background-color: #E2EBFA;\n",
              "      box-shadow: 0px 1px 2px rgba(60, 64, 67, 0.3), 0px 1px 3px 1px rgba(60, 64, 67, 0.15);\n",
              "      fill: #174EA6;\n",
              "    }\n",
              "\n",
              "    .colab-df-buttons div {\n",
              "      margin-bottom: 4px;\n",
              "    }\n",
              "\n",
              "    [theme=dark] .colab-df-convert {\n",
              "      background-color: #3B4455;\n",
              "      fill: #D2E3FC;\n",
              "    }\n",
              "\n",
              "    [theme=dark] .colab-df-convert:hover {\n",
              "      background-color: #434B5C;\n",
              "      box-shadow: 0px 1px 3px 1px rgba(0, 0, 0, 0.15);\n",
              "      filter: drop-shadow(0px 1px 2px rgba(0, 0, 0, 0.3));\n",
              "      fill: #FFFFFF;\n",
              "    }\n",
              "  </style>\n",
              "\n",
              "    <script>\n",
              "      const buttonEl =\n",
              "        document.querySelector('#df-1b8efb1a-4b70-4bf2-9766-02b12b8c8856 button.colab-df-convert');\n",
              "      buttonEl.style.display =\n",
              "        google.colab.kernel.accessAllowed ? 'block' : 'none';\n",
              "\n",
              "      async function convertToInteractive(key) {\n",
              "        const element = document.querySelector('#df-1b8efb1a-4b70-4bf2-9766-02b12b8c8856');\n",
              "        const dataTable =\n",
              "          await google.colab.kernel.invokeFunction('convertToInteractive',\n",
              "                                                    [key], {});\n",
              "        if (!dataTable) return;\n",
              "\n",
              "        const docLinkHtml = 'Like what you see? Visit the ' +\n",
              "          '<a target=\"_blank\" href=https://colab.research.google.com/notebooks/data_table.ipynb>data table notebook</a>'\n",
              "          + ' to learn more about interactive tables.';\n",
              "        element.innerHTML = '';\n",
              "        dataTable['output_type'] = 'display_data';\n",
              "        await google.colab.output.renderOutput(dataTable, element);\n",
              "        const docLink = document.createElement('div');\n",
              "        docLink.innerHTML = docLinkHtml;\n",
              "        element.appendChild(docLink);\n",
              "      }\n",
              "    </script>\n",
              "  </div>\n",
              "\n",
              "\n",
              "<div id=\"df-067a4bea-c8bf-470b-afc3-7224a39a4751\">\n",
              "  <button class=\"colab-df-quickchart\" onclick=\"quickchart('df-067a4bea-c8bf-470b-afc3-7224a39a4751')\"\n",
              "            title=\"Suggest charts\"\n",
              "            style=\"display:none;\">\n",
              "\n",
              "<svg xmlns=\"http://www.w3.org/2000/svg\" height=\"24px\"viewBox=\"0 0 24 24\"\n",
              "     width=\"24px\">\n",
              "    <g>\n",
              "        <path d=\"M19 3H5c-1.1 0-2 .9-2 2v14c0 1.1.9 2 2 2h14c1.1 0 2-.9 2-2V5c0-1.1-.9-2-2-2zM9 17H7v-7h2v7zm4 0h-2V7h2v10zm4 0h-2v-4h2v4z\"/>\n",
              "    </g>\n",
              "</svg>\n",
              "  </button>\n",
              "\n",
              "<style>\n",
              "  .colab-df-quickchart {\n",
              "      --bg-color: #E8F0FE;\n",
              "      --fill-color: #1967D2;\n",
              "      --hover-bg-color: #E2EBFA;\n",
              "      --hover-fill-color: #174EA6;\n",
              "      --disabled-fill-color: #AAA;\n",
              "      --disabled-bg-color: #DDD;\n",
              "  }\n",
              "\n",
              "  [theme=dark] .colab-df-quickchart {\n",
              "      --bg-color: #3B4455;\n",
              "      --fill-color: #D2E3FC;\n",
              "      --hover-bg-color: #434B5C;\n",
              "      --hover-fill-color: #FFFFFF;\n",
              "      --disabled-bg-color: #3B4455;\n",
              "      --disabled-fill-color: #666;\n",
              "  }\n",
              "\n",
              "  .colab-df-quickchart {\n",
              "    background-color: var(--bg-color);\n",
              "    border: none;\n",
              "    border-radius: 50%;\n",
              "    cursor: pointer;\n",
              "    display: none;\n",
              "    fill: var(--fill-color);\n",
              "    height: 32px;\n",
              "    padding: 0;\n",
              "    width: 32px;\n",
              "  }\n",
              "\n",
              "  .colab-df-quickchart:hover {\n",
              "    background-color: var(--hover-bg-color);\n",
              "    box-shadow: 0 1px 2px rgba(60, 64, 67, 0.3), 0 1px 3px 1px rgba(60, 64, 67, 0.15);\n",
              "    fill: var(--button-hover-fill-color);\n",
              "  }\n",
              "\n",
              "  .colab-df-quickchart-complete:disabled,\n",
              "  .colab-df-quickchart-complete:disabled:hover {\n",
              "    background-color: var(--disabled-bg-color);\n",
              "    fill: var(--disabled-fill-color);\n",
              "    box-shadow: none;\n",
              "  }\n",
              "\n",
              "  .colab-df-spinner {\n",
              "    border: 2px solid var(--fill-color);\n",
              "    border-color: transparent;\n",
              "    border-bottom-color: var(--fill-color);\n",
              "    animation:\n",
              "      spin 1s steps(1) infinite;\n",
              "  }\n",
              "\n",
              "  @keyframes spin {\n",
              "    0% {\n",
              "      border-color: transparent;\n",
              "      border-bottom-color: var(--fill-color);\n",
              "      border-left-color: var(--fill-color);\n",
              "    }\n",
              "    20% {\n",
              "      border-color: transparent;\n",
              "      border-left-color: var(--fill-color);\n",
              "      border-top-color: var(--fill-color);\n",
              "    }\n",
              "    30% {\n",
              "      border-color: transparent;\n",
              "      border-left-color: var(--fill-color);\n",
              "      border-top-color: var(--fill-color);\n",
              "      border-right-color: var(--fill-color);\n",
              "    }\n",
              "    40% {\n",
              "      border-color: transparent;\n",
              "      border-right-color: var(--fill-color);\n",
              "      border-top-color: var(--fill-color);\n",
              "    }\n",
              "    60% {\n",
              "      border-color: transparent;\n",
              "      border-right-color: var(--fill-color);\n",
              "    }\n",
              "    80% {\n",
              "      border-color: transparent;\n",
              "      border-right-color: var(--fill-color);\n",
              "      border-bottom-color: var(--fill-color);\n",
              "    }\n",
              "    90% {\n",
              "      border-color: transparent;\n",
              "      border-bottom-color: var(--fill-color);\n",
              "    }\n",
              "  }\n",
              "</style>\n",
              "\n",
              "  <script>\n",
              "    async function quickchart(key) {\n",
              "      const quickchartButtonEl =\n",
              "        document.querySelector('#' + key + ' button');\n",
              "      quickchartButtonEl.disabled = true;  // To prevent multiple clicks.\n",
              "      quickchartButtonEl.classList.add('colab-df-spinner');\n",
              "      try {\n",
              "        const charts = await google.colab.kernel.invokeFunction(\n",
              "            'suggestCharts', [key], {});\n",
              "      } catch (error) {\n",
              "        console.error('Error during call to suggestCharts:', error);\n",
              "      }\n",
              "      quickchartButtonEl.classList.remove('colab-df-spinner');\n",
              "      quickchartButtonEl.classList.add('colab-df-quickchart-complete');\n",
              "    }\n",
              "    (() => {\n",
              "      let quickchartButtonEl =\n",
              "        document.querySelector('#df-067a4bea-c8bf-470b-afc3-7224a39a4751 button');\n",
              "      quickchartButtonEl.style.display =\n",
              "        google.colab.kernel.accessAllowed ? 'block' : 'none';\n",
              "    })();\n",
              "  </script>\n",
              "</div>\n",
              "\n",
              "    </div>\n",
              "  </div>\n"
            ],
            "application/vnd.google.colaboratory.intrinsic+json": {
              "type": "dataframe",
              "summary": "{\n  \"name\": \"data\",\n  \"rows\": 5,\n  \"fields\": [\n    {\n      \"column\": \"ZAR/USD\",\n      \"properties\": {\n        \"dtype\": \"number\",\n        \"std\": 0.38957669334804945,\n        \"min\": 13.16,\n        \"max\": 14.06,\n        \"num_unique_values\": 5,\n        \"samples\": [\n          13.16,\n          13.25,\n          13.71\n        ],\n        \"semantic_type\": \"\",\n        \"description\": \"\"\n      }\n    },\n    {\n      \"column\": \"Value of Exports (USD)\",\n      \"properties\": {\n        \"dtype\": \"number\",\n        \"std\": 247.05985681611625,\n        \"min\": 7601.5,\n        \"max\": 8264.55,\n        \"num_unique_values\": 5,\n        \"samples\": [\n          7761.13,\n          7874.08,\n          7601.5\n        ],\n        \"semantic_type\": \"\",\n        \"description\": \"\"\n      }\n    },\n    {\n      \"column\": \"Value of Exports (ZAR)\",\n      \"properties\": {\n        \"dtype\": \"number\",\n        \"std\": 5754.544660851112,\n        \"min\": 102150.48,\n        \"max\": 116185.99,\n        \"num_unique_values\": 5,\n        \"samples\": [\n          102150.48,\n          104320.26,\n          104205.42\n        ],\n        \"semantic_type\": \"\",\n        \"description\": \"\"\n      }\n    },\n    {\n      \"column\": \"Value of Imports (USD)\",\n      \"properties\": {\n        \"dtype\": \"number\",\n        \"std\": 298.48625660153914,\n        \"min\": 7068.85,\n        \"max\": 7810.59,\n        \"num_unique_values\": 5,\n        \"samples\": [\n          7810.59,\n          7068.85,\n          7661.57\n        ],\n        \"semantic_type\": \"\",\n        \"description\": \"\"\n      }\n    },\n    {\n      \"column\": \"Value of Imports (ZAR)\",\n      \"properties\": {\n        \"dtype\": \"number\",\n        \"std\": 5444.659876568969,\n        \"min\": 93652.18,\n        \"max\": 108311.23,\n        \"num_unique_values\": 5,\n        \"samples\": [\n          102801.49,\n          93652.18,\n          105028.95\n        ],\n        \"semantic_type\": \"\",\n        \"description\": \"\"\n      }\n    },\n    {\n      \"column\": \"IMF Reserve Position (USD)\",\n      \"properties\": {\n        \"dtype\": \"number\",\n        \"std\": 9.589764334956294,\n        \"min\": 638.23,\n        \"max\": 661.54,\n        \"num_unique_values\": 5,\n        \"samples\": [\n          661.5,\n          638.23,\n          656.62\n        ],\n        \"semantic_type\": \"\",\n        \"description\": \"\"\n      }\n    },\n    {\n      \"column\": \"Foreign Exchange (USD)\",\n      \"properties\": {\n        \"dtype\": \"number\",\n        \"std\": 1509.5911035773893,\n        \"min\": 38889.0,\n        \"max\": 42735.0,\n        \"num_unique_values\": 5,\n        \"samples\": [\n          41424.0,\n          42735.0,\n          41018.0\n        ],\n        \"semantic_type\": \"\",\n        \"description\": \"\"\n      }\n    },\n    {\n      \"column\": \"Claims on Non-residents (USD)\",\n      \"properties\": {\n        \"dtype\": \"number\",\n        \"std\": 1610.8708380965875,\n        \"min\": 42813.27,\n        \"max\": 47101.71,\n        \"num_unique_values\": 5,\n        \"samples\": [\n          44318.4,\n          47101.71,\n          44003.77\n        ],\n        \"semantic_type\": \"\",\n        \"description\": \"\"\n      }\n    },\n    {\n      \"column\": \"Liabilities to Non-residents (USD)\",\n      \"properties\": {\n        \"dtype\": \"number\",\n        \"std\": 1899.6214924163182,\n        \"min\": 32917.8,\n        \"max\": 37918.26,\n        \"num_unique_values\": 5,\n        \"samples\": [\n          34351.03,\n          37918.26,\n          34206.03\n        ],\n        \"semantic_type\": \"\",\n        \"description\": \"\"\n      }\n    },\n    {\n      \"column\": \"Savings Rate\",\n      \"properties\": {\n        \"dtype\": \"number\",\n        \"std\": 0.029664793948382617,\n        \"min\": 4.36,\n        \"max\": 4.44,\n        \"num_unique_values\": 5,\n        \"samples\": [\n          4.4,\n          4.44,\n          4.41\n        ],\n        \"semantic_type\": \"\",\n        \"description\": \"\"\n      }\n    },\n    {\n      \"column\": \"Lending Rate\",\n      \"properties\": {\n        \"dtype\": \"number\",\n        \"std\": 0.0,\n        \"min\": 10.25,\n        \"max\": 10.25,\n        \"num_unique_values\": 1,\n        \"samples\": [\n          10.25\n        ],\n        \"semantic_type\": \"\",\n        \"description\": \"\"\n      }\n    },\n    {\n      \"column\": \"Government Bonds\",\n      \"properties\": {\n        \"dtype\": \"number\",\n        \"std\": 0.29231831964486965,\n        \"min\": 9.04,\n        \"max\": 9.77,\n        \"num_unique_values\": 5,\n        \"samples\": [\n          9.04\n        ],\n        \"semantic_type\": \"\",\n        \"description\": \"\"\n      }\n    },\n    {\n      \"column\": \"Financial Market Prices, Equities Index\",\n      \"properties\": {\n        \"dtype\": \"number\",\n        \"std\": 4.775644459128001,\n        \"min\": 167.16,\n        \"max\": 178.42,\n        \"num_unique_values\": 5,\n        \"samples\": [\n          168.34\n        ],\n        \"semantic_type\": \"\",\n        \"description\": \"\"\n      }\n    },\n    {\n      \"column\": \"Consumer Price Index\",\n      \"properties\": {\n        \"dtype\": \"number\",\n        \"std\": 0.7301849080883495,\n        \"min\": 146.4,\n        \"max\": 148.38,\n        \"num_unique_values\": 5,\n        \"samples\": [\n          147.11\n        ],\n        \"semantic_type\": \"\",\n        \"description\": \"\"\n      }\n    }\n  ]\n}"
            }
          },
          "metadata": {},
          "execution_count": 26
        }
      ]
    },
    {
      "cell_type": "markdown",
      "source": [],
      "metadata": {
        "id": "IPotbSM_vD6w"
      }
    },
    {
      "cell_type": "markdown",
      "source": [
        "# Create and Train Model"
      ],
      "metadata": {
        "id": "zNg3S0c9vH49"
      }
    },
    {
      "cell_type": "code",
      "source": [
        "# Create a linear regression model using only 'Value of Exports (ZAR)' as a feature\n",
        "model = LinearRegression()\n",
        "\n",
        "# Train the model using the training data\n",
        "model.fit(X_train[['Value of Exports (ZAR)']], y_train)\n"
      ],
      "metadata": {
        "colab": {
          "base_uri": "https://localhost:8080/",
          "height": 75
        },
        "id": "l1k_mJJxu8CN",
        "outputId": "088c0389-37c0-43ca-a84c-b8764e060690"
      },
      "execution_count": null,
      "outputs": [
        {
          "output_type": "execute_result",
          "data": {
            "text/plain": [
              "LinearRegression()"
            ],
            "text/html": [
              "<style>#sk-container-id-2 {color: black;}#sk-container-id-2 pre{padding: 0;}#sk-container-id-2 div.sk-toggleable {background-color: white;}#sk-container-id-2 label.sk-toggleable__label {cursor: pointer;display: block;width: 100%;margin-bottom: 0;padding: 0.3em;box-sizing: border-box;text-align: center;}#sk-container-id-2 label.sk-toggleable__label-arrow:before {content: \"▸\";float: left;margin-right: 0.25em;color: #696969;}#sk-container-id-2 label.sk-toggleable__label-arrow:hover:before {color: black;}#sk-container-id-2 div.sk-estimator:hover label.sk-toggleable__label-arrow:before {color: black;}#sk-container-id-2 div.sk-toggleable__content {max-height: 0;max-width: 0;overflow: hidden;text-align: left;background-color: #f0f8ff;}#sk-container-id-2 div.sk-toggleable__content pre {margin: 0.2em;color: black;border-radius: 0.25em;background-color: #f0f8ff;}#sk-container-id-2 input.sk-toggleable__control:checked~div.sk-toggleable__content {max-height: 200px;max-width: 100%;overflow: auto;}#sk-container-id-2 input.sk-toggleable__control:checked~label.sk-toggleable__label-arrow:before {content: \"▾\";}#sk-container-id-2 div.sk-estimator input.sk-toggleable__control:checked~label.sk-toggleable__label {background-color: #d4ebff;}#sk-container-id-2 div.sk-label input.sk-toggleable__control:checked~label.sk-toggleable__label {background-color: #d4ebff;}#sk-container-id-2 input.sk-hidden--visually {border: 0;clip: rect(1px 1px 1px 1px);clip: rect(1px, 1px, 1px, 1px);height: 1px;margin: -1px;overflow: hidden;padding: 0;position: absolute;width: 1px;}#sk-container-id-2 div.sk-estimator {font-family: monospace;background-color: #f0f8ff;border: 1px dotted black;border-radius: 0.25em;box-sizing: border-box;margin-bottom: 0.5em;}#sk-container-id-2 div.sk-estimator:hover {background-color: #d4ebff;}#sk-container-id-2 div.sk-parallel-item::after {content: \"\";width: 100%;border-bottom: 1px solid gray;flex-grow: 1;}#sk-container-id-2 div.sk-label:hover label.sk-toggleable__label {background-color: #d4ebff;}#sk-container-id-2 div.sk-serial::before {content: \"\";position: absolute;border-left: 1px solid gray;box-sizing: border-box;top: 0;bottom: 0;left: 50%;z-index: 0;}#sk-container-id-2 div.sk-serial {display: flex;flex-direction: column;align-items: center;background-color: white;padding-right: 0.2em;padding-left: 0.2em;position: relative;}#sk-container-id-2 div.sk-item {position: relative;z-index: 1;}#sk-container-id-2 div.sk-parallel {display: flex;align-items: stretch;justify-content: center;background-color: white;position: relative;}#sk-container-id-2 div.sk-item::before, #sk-container-id-2 div.sk-parallel-item::before {content: \"\";position: absolute;border-left: 1px solid gray;box-sizing: border-box;top: 0;bottom: 0;left: 50%;z-index: -1;}#sk-container-id-2 div.sk-parallel-item {display: flex;flex-direction: column;z-index: 1;position: relative;background-color: white;}#sk-container-id-2 div.sk-parallel-item:first-child::after {align-self: flex-end;width: 50%;}#sk-container-id-2 div.sk-parallel-item:last-child::after {align-self: flex-start;width: 50%;}#sk-container-id-2 div.sk-parallel-item:only-child::after {width: 0;}#sk-container-id-2 div.sk-dashed-wrapped {border: 1px dashed gray;margin: 0 0.4em 0.5em 0.4em;box-sizing: border-box;padding-bottom: 0.4em;background-color: white;}#sk-container-id-2 div.sk-label label {font-family: monospace;font-weight: bold;display: inline-block;line-height: 1.2em;}#sk-container-id-2 div.sk-label-container {text-align: center;}#sk-container-id-2 div.sk-container {/* jupyter's `normalize.less` sets `[hidden] { display: none; }` but bootstrap.min.css set `[hidden] { display: none !important; }` so we also need the `!important` here to be able to override the default hidden behavior on the sphinx rendered scikit-learn.org. See: https://github.com/scikit-learn/scikit-learn/issues/21755 */display: inline-block !important;position: relative;}#sk-container-id-2 div.sk-text-repr-fallback {display: none;}</style><div id=\"sk-container-id-2\" class=\"sk-top-container\"><div class=\"sk-text-repr-fallback\"><pre>LinearRegression()</pre><b>In a Jupyter environment, please rerun this cell to show the HTML representation or trust the notebook. <br />On GitHub, the HTML representation is unable to render, please try loading this page with nbviewer.org.</b></div><div class=\"sk-container\" hidden><div class=\"sk-item\"><div class=\"sk-estimator sk-toggleable\"><input class=\"sk-toggleable__control sk-hidden--visually\" id=\"sk-estimator-id-2\" type=\"checkbox\" checked><label for=\"sk-estimator-id-2\" class=\"sk-toggleable__label sk-toggleable__label-arrow\">LinearRegression</label><div class=\"sk-toggleable__content\"><pre>LinearRegression()</pre></div></div></div></div></div>"
            ]
          },
          "metadata": {},
          "execution_count": 27
        }
      ]
    },
    {
      "cell_type": "markdown",
      "source": [
        "## What is the value of the intercept of the model?\n",
        "\n"
      ],
      "metadata": {
        "id": "WeryyyfZvsKs"
      }
    },
    {
      "cell_type": "code",
      "source": [
        "intercept = model.intercept_\n",
        "print(\"Intercept:\", intercept)\n"
      ],
      "metadata": {
        "colab": {
          "base_uri": "https://localhost:8080/"
        },
        "id": "uMTAmNGPvZDl",
        "outputId": "b5158501-9fc0-4b04-e403-49ead634d67e"
      },
      "execution_count": null,
      "outputs": [
        {
          "output_type": "stream",
          "name": "stdout",
          "text": [
            "Intercept: 3.2941036551619067\n"
          ]
        }
      ]
    },
    {
      "cell_type": "markdown",
      "source": [
        "## What is the value of the slope of this model?"
      ],
      "metadata": {
        "id": "SLXvGH85whPy"
      }
    },
    {
      "cell_type": "code",
      "source": [
        "slope = model.coef_\n",
        "print(\"Slope:\", slope)\n"
      ],
      "metadata": {
        "colab": {
          "base_uri": "https://localhost:8080/"
        },
        "id": "rJC1jCUtv3oM",
        "outputId": "13ef1542-8279-4e1a-84a5-7fc33379d0da"
      },
      "execution_count": null,
      "outputs": [
        {
          "output_type": "stream",
          "name": "stdout",
          "text": [
            "Slope: [8.67712634e-05]\n"
          ]
        }
      ]
    },
    {
      "cell_type": "markdown",
      "source": [
        "## What is the predicted value of the exchange rate in a month where exports total R100 000?"
      ],
      "metadata": {
        "id": "1Mdaq9oHxn0h"
      }
    },
    {
      "cell_type": "code",
      "source": [
        "predicted_exchange_rate = 3.2941036551619067 + (8.67712634e-05 * 100000)\n",
        "print(predicted_exchange_rate)\n"
      ],
      "metadata": {
        "colab": {
          "base_uri": "https://localhost:8080/"
        },
        "id": "eTQngSaPwlLx",
        "outputId": "58f430bf-df86-48db-f479-efc573987d31"
      },
      "execution_count": null,
      "outputs": [
        {
          "output_type": "stream",
          "name": "stdout",
          "text": [
            "11.971229995161906\n"
          ]
        }
      ]
    },
    {
      "cell_type": "markdown",
      "source": [
        "## What is the MSE of the model on the test set?"
      ],
      "metadata": {
        "id": "xffSn-htyLr3"
      }
    },
    {
      "cell_type": "code",
      "source": [
        "y_pred = model.predict(X_test[['Value of Exports (ZAR)']])\n"
      ],
      "metadata": {
        "id": "KCHXtqHVxvzn"
      },
      "execution_count": null,
      "outputs": []
    },
    {
      "cell_type": "code",
      "source": [
        "mse = mean_squared_error(y_test, y_pred)\n",
        "print(\"MSE:\", mse)\n"
      ],
      "metadata": {
        "colab": {
          "base_uri": "https://localhost:8080/"
        },
        "id": "Yo8txr6uyPmf",
        "outputId": "9061eddc-b864-465e-a746-a8d2c1f1f141"
      },
      "execution_count": null,
      "outputs": [
        {
          "output_type": "stream",
          "name": "stdout",
          "text": [
            "MSE: 8.221852113297055\n"
          ]
        }
      ]
    },
    {
      "cell_type": "markdown",
      "source": [
        "## What is the R-squared value of the model on the test set?"
      ],
      "metadata": {
        "id": "gCTPOnOSywN2"
      }
    },
    {
      "cell_type": "code",
      "source": [
        "r2 = r2_score(y_test, y_pred)\n",
        "print(\"R-squared:\", r2)\n"
      ],
      "metadata": {
        "colab": {
          "base_uri": "https://localhost:8080/"
        },
        "id": "QX47_GSCyXiP",
        "outputId": "42063649-7a25-4ac3-d083-d5c6680bc178"
      },
      "execution_count": null,
      "outputs": [
        {
          "output_type": "stream",
          "name": "stdout",
          "text": [
            "R-squared: -8.448868004702902\n"
          ]
        }
      ]
    },
    {
      "cell_type": "markdown",
      "source": [
        "## What is the predicted value for August 2017?"
      ],
      "metadata": {
        "id": "gvjSWNhSz5AN"
      }
    },
    {
      "cell_type": "code",
      "source": [
        "# Get the value of exports for August 2017\n",
        "august_2017_data = pd.DataFrame({'Value of Exports (ZAR)': [exports_aug_2017]})\n",
        "predicted_exchange_rate = model.predict(august_2017_data)[0]\n",
        "\n",
        "print(\"Predicted exchange rate for August 2017:\", predicted_exchange_rate)\n"
      ],
      "metadata": {
        "colab": {
          "base_uri": "https://localhost:8080/"
        },
        "id": "mcdE-P5-yxwO",
        "outputId": "d7555297-ecf2-4873-e7d8-df9fc65996aa"
      },
      "execution_count": null,
      "outputs": [
        {
          "output_type": "stream",
          "name": "stdout",
          "text": [
            "Predicted exchange rate for August 2017: 12.248826017678892\n"
          ]
        }
      ]
    },
    {
      "cell_type": "markdown",
      "source": [
        "## What is the absolute error for this prediction?"
      ],
      "metadata": {
        "id": "r5ZPPXka3EmP"
      }
    },
    {
      "cell_type": "markdown",
      "source": [
        "the actual exchange rate for August 2017 is 13.23.\n",
        "\n",
        "The predicted exchange rate for August 2017 is 12.25.\n",
        "\n",
        "Therefore, the absolute error is:\n",
        "\n",
        "|Predicted Value - Actual Value| = |12.25 - 13.23| = 0.98"
      ],
      "metadata": {
        "id": "xiDMkJWX3TdO"
      }
    },
    {
      "cell_type": "markdown",
      "source": [
        "## Which variable has the weakest linear relationship with the ZAR/USD exchange rate?"
      ],
      "metadata": {
        "id": "pFRRMqx53Y2-"
      }
    },
    {
      "cell_type": "code",
      "source": [
        "# Calculate correlations\n",
        "correlations = data.corr()\n",
        "\n",
        "# Print the correlations\n",
        "print(correlations)"
      ],
      "metadata": {
        "colab": {
          "base_uri": "https://localhost:8080/"
        },
        "id": "N0XKFb8h0Dnm",
        "outputId": "977343f1-f32e-42c8-b1b3-aa8d7bdd1296"
      },
      "execution_count": null,
      "outputs": [
        {
          "output_type": "stream",
          "name": "stdout",
          "text": [
            "                                          ZAR/USD  Value of Exports (USD)  \\\n",
            "ZAR/USD                                  1.000000               -0.335780   \n",
            "Value of Exports (USD)                  -0.335780                1.000000   \n",
            "Value of Exports (ZAR)                   0.784756                0.298409   \n",
            "Value of Imports (USD)                  -0.350606                0.735534   \n",
            "Value of Imports (ZAR)                   0.791994                0.112544   \n",
            "IMF Reserve Position (USD)               0.855311               -0.133469   \n",
            "Foreign Exchange (USD)                   0.317203                0.587733   \n",
            "Claims on Non-residents (USD)           -0.727278                0.137726   \n",
            "Liabilities to Non-residents (USD)      -0.472230               -0.313378   \n",
            "Savings Rate                             0.041555               -0.507888   \n",
            "Lending Rate                            -0.056806               -0.499981   \n",
            "Government Bonds                         0.191455               -0.241177   \n",
            "Financial Market Prices, Equities Index  0.139858               -0.056806   \n",
            "Consumer Price Index                     0.872660                0.043945   \n",
            "\n",
            "                                         Value of Exports (ZAR)  \\\n",
            "ZAR/USD                                                0.784756   \n",
            "Value of Exports (USD)                                 0.298409   \n",
            "Value of Exports (ZAR)                                 1.000000   \n",
            "Value of Imports (USD)                                 0.130149   \n",
            "Value of Imports (ZAR)                                 0.887292   \n",
            "IMF Reserve Position (USD)                             0.790723   \n",
            "Foreign Exchange (USD)                                 0.687652   \n",
            "Claims on Non-residents (USD)                         -0.657928   \n",
            "Liabilities to Non-residents (USD)                    -0.700730   \n",
            "Savings Rate                                          -0.258919   \n",
            "Lending Rate                                          -0.368687   \n",
            "Government Bonds                                       0.028151   \n",
            "Financial Market Prices, Equities Index                0.126683   \n",
            "Consumer Price Index                                   0.918739   \n",
            "\n",
            "                                         Value of Imports (USD)  \\\n",
            "ZAR/USD                                               -0.350606   \n",
            "Value of Exports (USD)                                 0.735534   \n",
            "Value of Exports (ZAR)                                 0.130149   \n",
            "Value of Imports (USD)                                 1.000000   \n",
            "Value of Imports (ZAR)                                 0.278542   \n",
            "IMF Reserve Position (USD)                            -0.283986   \n",
            "Foreign Exchange (USD)                                 0.437643   \n",
            "Claims on Non-residents (USD)                          0.307407   \n",
            "Liabilities to Non-residents (USD)                    -0.211104   \n",
            "Savings Rate                                          -0.300033   \n",
            "Lending Rate                                          -0.267341   \n",
            "Government Bonds                                      -0.357321   \n",
            "Financial Market Prices, Equities Index                0.238790   \n",
            "Consumer Price Index                                  -0.098713   \n",
            "\n",
            "                                         Value of Imports (ZAR)  \\\n",
            "ZAR/USD                                                0.791994   \n",
            "Value of Exports (USD)                                 0.112544   \n",
            "Value of Exports (ZAR)                                 0.887292   \n",
            "Value of Imports (USD)                                 0.278542   \n",
            "Value of Imports (ZAR)                                 1.000000   \n",
            "IMF Reserve Position (USD)                             0.685969   \n",
            "Foreign Exchange (USD)                                 0.601527   \n",
            "Claims on Non-residents (USD)                         -0.558330   \n",
            "Liabilities to Non-residents (USD)                    -0.624678   \n",
            "Savings Rate                                          -0.155815   \n",
            "Lending Rate                                          -0.247282   \n",
            "Government Bonds                                      -0.064803   \n",
            "Financial Market Prices, Equities Index                0.277996   \n",
            "Consumer Price Index                                   0.836289   \n",
            "\n",
            "                                         IMF Reserve Position (USD)  \\\n",
            "ZAR/USD                                                    0.855311   \n",
            "Value of Exports (USD)                                    -0.133469   \n",
            "Value of Exports (ZAR)                                     0.790723   \n",
            "Value of Imports (USD)                                    -0.283986   \n",
            "Value of Imports (ZAR)                                     0.685969   \n",
            "IMF Reserve Position (USD)                                 1.000000   \n",
            "Foreign Exchange (USD)                                     0.352131   \n",
            "Claims on Non-residents (USD)                             -0.781352   \n",
            "Liabilities to Non-residents (USD)                        -0.569152   \n",
            "Savings Rate                                               0.050305   \n",
            "Lending Rate                                              -0.075590   \n",
            "Government Bonds                                           0.298413   \n",
            "Financial Market Prices, Equities Index                    0.106508   \n",
            "Consumer Price Index                                       0.883892   \n",
            "\n",
            "                                         Foreign Exchange (USD)  \\\n",
            "ZAR/USD                                                0.317203   \n",
            "Value of Exports (USD)                                 0.587733   \n",
            "Value of Exports (ZAR)                                 0.687652   \n",
            "Value of Imports (USD)                                 0.437643   \n",
            "Value of Imports (ZAR)                                 0.601527   \n",
            "IMF Reserve Position (USD)                             0.352131   \n",
            "Foreign Exchange (USD)                                 1.000000   \n",
            "Claims on Non-residents (USD)                         -0.344510   \n",
            "Liabilities to Non-residents (USD)                    -0.665832   \n",
            "Savings Rate                                          -0.743684   \n",
            "Lending Rate                                          -0.828095   \n",
            "Government Bonds                                      -0.385478   \n",
            "Financial Market Prices, Equities Index               -0.270940   \n",
            "Consumer Price Index                                   0.662314   \n",
            "\n",
            "                                         Claims on Non-residents (USD)  \\\n",
            "ZAR/USD                                                      -0.727278   \n",
            "Value of Exports (USD)                                        0.137726   \n",
            "Value of Exports (ZAR)                                       -0.657928   \n",
            "Value of Imports (USD)                                        0.307407   \n",
            "Value of Imports (ZAR)                                       -0.558330   \n",
            "IMF Reserve Position (USD)                                   -0.781352   \n",
            "Foreign Exchange (USD)                                       -0.344510   \n",
            "Claims on Non-residents (USD)                                 1.000000   \n",
            "Liabilities to Non-residents (USD)                            0.698120   \n",
            "Savings Rate                                                  0.078167   \n",
            "Lending Rate                                                  0.181353   \n",
            "Government Bonds                                             -0.252070   \n",
            "Financial Market Prices, Equities Index                       0.059806   \n",
            "Consumer Price Index                                         -0.771530   \n",
            "\n",
            "                                         Liabilities to Non-residents (USD)  \\\n",
            "ZAR/USD                                                           -0.472230   \n",
            "Value of Exports (USD)                                            -0.313378   \n",
            "Value of Exports (ZAR)                                            -0.700730   \n",
            "Value of Imports (USD)                                            -0.211104   \n",
            "Value of Imports (ZAR)                                            -0.624678   \n",
            "IMF Reserve Position (USD)                                        -0.569152   \n",
            "Foreign Exchange (USD)                                            -0.665832   \n",
            "Claims on Non-residents (USD)                                      0.698120   \n",
            "Liabilities to Non-residents (USD)                                 1.000000   \n",
            "Savings Rate                                                       0.425561   \n",
            "Lending Rate                                                       0.500934   \n",
            "Government Bonds                                                   0.054362   \n",
            "Financial Market Prices, Equities Index                            0.074766   \n",
            "Consumer Price Index                                              -0.687501   \n",
            "\n",
            "                                         Savings Rate  Lending Rate  \\\n",
            "ZAR/USD                                      0.041555     -0.056806   \n",
            "Value of Exports (USD)                      -0.507888     -0.499981   \n",
            "Value of Exports (ZAR)                      -0.258919     -0.368687   \n",
            "Value of Imports (USD)                      -0.300033     -0.267341   \n",
            "Value of Imports (ZAR)                      -0.155815     -0.247282   \n",
            "IMF Reserve Position (USD)                   0.050305     -0.075590   \n",
            "Foreign Exchange (USD)                      -0.743684     -0.828095   \n",
            "Claims on Non-residents (USD)                0.078167      0.181353   \n",
            "Liabilities to Non-residents (USD)           0.425561      0.500934   \n",
            "Savings Rate                                 1.000000      0.955449   \n",
            "Lending Rate                                 0.955449      1.000000   \n",
            "Government Bonds                             0.516966      0.496252   \n",
            "Financial Market Prices, Equities Index      0.546839      0.624556   \n",
            "Consumer Price Index                        -0.285712     -0.420766   \n",
            "\n",
            "                                         Government Bonds  \\\n",
            "ZAR/USD                                          0.191455   \n",
            "Value of Exports (USD)                          -0.241177   \n",
            "Value of Exports (ZAR)                           0.028151   \n",
            "Value of Imports (USD)                          -0.357321   \n",
            "Value of Imports (ZAR)                          -0.064803   \n",
            "IMF Reserve Position (USD)                       0.298413   \n",
            "Foreign Exchange (USD)                          -0.385478   \n",
            "Claims on Non-residents (USD)                   -0.252070   \n",
            "Liabilities to Non-residents (USD)               0.054362   \n",
            "Savings Rate                                     0.516966   \n",
            "Lending Rate                                     0.496252   \n",
            "Government Bonds                                 1.000000   \n",
            "Financial Market Prices, Equities Index          0.315898   \n",
            "Consumer Price Index                             0.022497   \n",
            "\n",
            "                                         Financial Market Prices, Equities Index  \\\n",
            "ZAR/USD                                                                 0.139858   \n",
            "Value of Exports (USD)                                                 -0.056806   \n",
            "Value of Exports (ZAR)                                                  0.126683   \n",
            "Value of Imports (USD)                                                  0.238790   \n",
            "Value of Imports (ZAR)                                                  0.277996   \n",
            "IMF Reserve Position (USD)                                              0.106508   \n",
            "Foreign Exchange (USD)                                                 -0.270940   \n",
            "Claims on Non-residents (USD)                                           0.059806   \n",
            "Liabilities to Non-residents (USD)                                      0.074766   \n",
            "Savings Rate                                                            0.546839   \n",
            "Lending Rate                                                            0.624556   \n",
            "Government Bonds                                                        0.315898   \n",
            "Financial Market Prices, Equities Index                                 1.000000   \n",
            "Consumer Price Index                                                   -0.042643   \n",
            "\n",
            "                                         Consumer Price Index  \n",
            "ZAR/USD                                              0.872660  \n",
            "Value of Exports (USD)                               0.043945  \n",
            "Value of Exports (ZAR)                               0.918739  \n",
            "Value of Imports (USD)                              -0.098713  \n",
            "Value of Imports (ZAR)                               0.836289  \n",
            "IMF Reserve Position (USD)                           0.883892  \n",
            "Foreign Exchange (USD)                               0.662314  \n",
            "Claims on Non-residents (USD)                       -0.771530  \n",
            "Liabilities to Non-residents (USD)                  -0.687501  \n",
            "Savings Rate                                        -0.285712  \n",
            "Lending Rate                                        -0.420766  \n",
            "Government Bonds                                     0.022497  \n",
            "Financial Market Prices, Equities Index             -0.042643  \n",
            "Consumer Price Index                                 1.000000  \n"
          ]
        }
      ]
    },
    {
      "cell_type": "markdown",
      "source": [
        "From the correlation matrix provided, here are the correlations of the ZAR/USD exchange rate with the variables in question:\n",
        "\n",
        "Savings Rate: 0.041555\n",
        "Lending Rate: -0.056806\n",
        "Claims on Non-residents: -0.727278\n",
        "Consumer Price Index: 0.872660\n",
        "The absolute values of these correlations are:\n",
        "\n",
        "Savings Rate: 0.041555\n",
        "Lending Rate: 0.056806\n",
        "Claims on Non-residents: 0.727278\n",
        "Consumer Price Index: 0.872660"
      ],
      "metadata": {
        "id": "1xv7BD-k4NU1"
      }
    },
    {
      "cell_type": "markdown",
      "source": [
        "### Savings Rate has the weakest linear relationship with the ZAR/USD exchange rate."
      ],
      "metadata": {
        "id": "kiCofYXX4S_M"
      }
    },
    {
      "cell_type": "code",
      "source": [],
      "metadata": {
        "id": "cKIEipn90lZ7"
      },
      "execution_count": null,
      "outputs": []
    },
    {
      "cell_type": "code",
      "source": [
        "# Load the dataset\n",
        "df = pd.read_csv('rand-dollar.csv', index_col=0)\n",
        "\n",
        "# Separate features (X) and target variable (y)\n",
        "X = df.drop('ZAR/USD', axis=1)  # All columns except 'ZAR/USD'\n",
        "y = df['ZAR/USD']\n",
        "\n",
        "# Split data into training and testing sets\n",
        "X_train, X_test, y_train, y_test = train_test_split(X, y, test_size=0.2, shuffle=False)\n",
        "\n",
        "# Standardize the features\n",
        "scaler = StandardScaler()\n",
        "X_train = scaler.fit_transform(X_train)\n",
        "X_test = scaler.transform(X_test)\n",
        "\n",
        "# Initialize models\n",
        "ridge_model = Ridge()\n",
        "lasso_model = Lasso(alpha=0.01)\n",
        "\n",
        "# Train the Ridge regression model\n",
        "ridge_model.fit(X_train, y_train)\n",
        "\n",
        "# Train the Lasso regression model\n",
        "lasso_model.fit(X_train, y_train)"
      ],
      "metadata": {
        "colab": {
          "base_uri": "https://localhost:8080/",
          "height": 75
        },
        "id": "JLxWTMN15aD7",
        "outputId": "c933a957-2b59-47b4-c590-1da5bc21b57e"
      },
      "execution_count": null,
      "outputs": [
        {
          "output_type": "execute_result",
          "data": {
            "text/plain": [
              "Lasso(alpha=0.01)"
            ],
            "text/html": [
              "<style>#sk-container-id-3 {color: black;}#sk-container-id-3 pre{padding: 0;}#sk-container-id-3 div.sk-toggleable {background-color: white;}#sk-container-id-3 label.sk-toggleable__label {cursor: pointer;display: block;width: 100%;margin-bottom: 0;padding: 0.3em;box-sizing: border-box;text-align: center;}#sk-container-id-3 label.sk-toggleable__label-arrow:before {content: \"▸\";float: left;margin-right: 0.25em;color: #696969;}#sk-container-id-3 label.sk-toggleable__label-arrow:hover:before {color: black;}#sk-container-id-3 div.sk-estimator:hover label.sk-toggleable__label-arrow:before {color: black;}#sk-container-id-3 div.sk-toggleable__content {max-height: 0;max-width: 0;overflow: hidden;text-align: left;background-color: #f0f8ff;}#sk-container-id-3 div.sk-toggleable__content pre {margin: 0.2em;color: black;border-radius: 0.25em;background-color: #f0f8ff;}#sk-container-id-3 input.sk-toggleable__control:checked~div.sk-toggleable__content {max-height: 200px;max-width: 100%;overflow: auto;}#sk-container-id-3 input.sk-toggleable__control:checked~label.sk-toggleable__label-arrow:before {content: \"▾\";}#sk-container-id-3 div.sk-estimator input.sk-toggleable__control:checked~label.sk-toggleable__label {background-color: #d4ebff;}#sk-container-id-3 div.sk-label input.sk-toggleable__control:checked~label.sk-toggleable__label {background-color: #d4ebff;}#sk-container-id-3 input.sk-hidden--visually {border: 0;clip: rect(1px 1px 1px 1px);clip: rect(1px, 1px, 1px, 1px);height: 1px;margin: -1px;overflow: hidden;padding: 0;position: absolute;width: 1px;}#sk-container-id-3 div.sk-estimator {font-family: monospace;background-color: #f0f8ff;border: 1px dotted black;border-radius: 0.25em;box-sizing: border-box;margin-bottom: 0.5em;}#sk-container-id-3 div.sk-estimator:hover {background-color: #d4ebff;}#sk-container-id-3 div.sk-parallel-item::after {content: \"\";width: 100%;border-bottom: 1px solid gray;flex-grow: 1;}#sk-container-id-3 div.sk-label:hover label.sk-toggleable__label {background-color: #d4ebff;}#sk-container-id-3 div.sk-serial::before {content: \"\";position: absolute;border-left: 1px solid gray;box-sizing: border-box;top: 0;bottom: 0;left: 50%;z-index: 0;}#sk-container-id-3 div.sk-serial {display: flex;flex-direction: column;align-items: center;background-color: white;padding-right: 0.2em;padding-left: 0.2em;position: relative;}#sk-container-id-3 div.sk-item {position: relative;z-index: 1;}#sk-container-id-3 div.sk-parallel {display: flex;align-items: stretch;justify-content: center;background-color: white;position: relative;}#sk-container-id-3 div.sk-item::before, #sk-container-id-3 div.sk-parallel-item::before {content: \"\";position: absolute;border-left: 1px solid gray;box-sizing: border-box;top: 0;bottom: 0;left: 50%;z-index: -1;}#sk-container-id-3 div.sk-parallel-item {display: flex;flex-direction: column;z-index: 1;position: relative;background-color: white;}#sk-container-id-3 div.sk-parallel-item:first-child::after {align-self: flex-end;width: 50%;}#sk-container-id-3 div.sk-parallel-item:last-child::after {align-self: flex-start;width: 50%;}#sk-container-id-3 div.sk-parallel-item:only-child::after {width: 0;}#sk-container-id-3 div.sk-dashed-wrapped {border: 1px dashed gray;margin: 0 0.4em 0.5em 0.4em;box-sizing: border-box;padding-bottom: 0.4em;background-color: white;}#sk-container-id-3 div.sk-label label {font-family: monospace;font-weight: bold;display: inline-block;line-height: 1.2em;}#sk-container-id-3 div.sk-label-container {text-align: center;}#sk-container-id-3 div.sk-container {/* jupyter's `normalize.less` sets `[hidden] { display: none; }` but bootstrap.min.css set `[hidden] { display: none !important; }` so we also need the `!important` here to be able to override the default hidden behavior on the sphinx rendered scikit-learn.org. See: https://github.com/scikit-learn/scikit-learn/issues/21755 */display: inline-block !important;position: relative;}#sk-container-id-3 div.sk-text-repr-fallback {display: none;}</style><div id=\"sk-container-id-3\" class=\"sk-top-container\"><div class=\"sk-text-repr-fallback\"><pre>Lasso(alpha=0.01)</pre><b>In a Jupyter environment, please rerun this cell to show the HTML representation or trust the notebook. <br />On GitHub, the HTML representation is unable to render, please try loading this page with nbviewer.org.</b></div><div class=\"sk-container\" hidden><div class=\"sk-item\"><div class=\"sk-estimator sk-toggleable\"><input class=\"sk-toggleable__control sk-hidden--visually\" id=\"sk-estimator-id-3\" type=\"checkbox\" checked><label for=\"sk-estimator-id-3\" class=\"sk-toggleable__label sk-toggleable__label-arrow\">Lasso</label><div class=\"sk-toggleable__content\"><pre>Lasso(alpha=0.01)</pre></div></div></div></div></div>"
            ]
          },
          "metadata": {},
          "execution_count": 14
        }
      ]
    },
    {
      "cell_type": "markdown",
      "source": [
        "## What is the training MSE of the Ridge model?"
      ],
      "metadata": {
        "id": "MtaMPv-f62Ew"
      }
    },
    {
      "cell_type": "code",
      "source": [
        "# Make predictions and calculate Mean Squared Error (MSE) for Ridge model\n",
        "y_train_pred_ridge = ridge_model.predict(X_train)\n",
        "training_mse_ridge = mean_squared_error(y_train, y_train_pred_ridge)\n",
        "print(\"Training MSE for Ridge model:\", training_mse_ridge)"
      ],
      "metadata": {
        "colab": {
          "base_uri": "https://localhost:8080/"
        },
        "id": "lwztMN3454cZ",
        "outputId": "5a38bd35-5f23-48e6-97f2-5b9d41a4136d"
      },
      "execution_count": null,
      "outputs": [
        {
          "output_type": "stream",
          "name": "stdout",
          "text": [
            "Training MSE for Ridge model: 0.03998637919597087\n"
          ]
        }
      ]
    },
    {
      "cell_type": "markdown",
      "source": [
        "## What is the training MSE of the LASSO model?\n",
        "\n"
      ],
      "metadata": {
        "id": "JKaCzCSi8MJO"
      }
    },
    {
      "cell_type": "code",
      "source": [
        "# Make predictions and calculate Mean Squared Error (MSE) for Lasso model\n",
        "y_train_pred_lasso = lasso_model.predict(X_train)\n",
        "training_mse_lasso = mean_squared_error(y_train, y_train_pred_lasso)\n",
        "print(\"Training MSE for Lasso model:\", training_mse_lasso)\n"
      ],
      "metadata": {
        "colab": {
          "base_uri": "https://localhost:8080/"
        },
        "id": "TCZFRy-268eH",
        "outputId": "9b3b3a36-15f1-4a59-dcee-99a9c6123f8f"
      },
      "execution_count": null,
      "outputs": [
        {
          "output_type": "stream",
          "name": "stdout",
          "text": [
            "Training MSE for Lasso model: 0.0469446388604385\n"
          ]
        }
      ]
    },
    {
      "cell_type": "markdown",
      "source": [
        "## What is the testing MSE of the Ridge model?\n",
        "\n"
      ],
      "metadata": {
        "id": "87y1HvNA8UcV"
      }
    },
    {
      "cell_type": "code",
      "source": [
        "y_test_pred_ridge = ridge_model.predict(X_test)\n",
        "testing_mse_ridge = mean_squared_error(y_test, y_test_pred_ridge)\n",
        "print(\"Testing MSE for Ridge model:\", testing_mse_ridge)"
      ],
      "metadata": {
        "colab": {
          "base_uri": "https://localhost:8080/"
        },
        "id": "xbwmsJur7tOr",
        "outputId": "75f3957c-9b25-4759-ca2e-1e658c9146cd"
      },
      "execution_count": null,
      "outputs": [
        {
          "output_type": "stream",
          "name": "stdout",
          "text": [
            "Testing MSE for Ridge model: 0.6273531237788174\n"
          ]
        }
      ]
    },
    {
      "cell_type": "code",
      "source": [
        "y_test_pred_lasso = lasso_model.predict(X_test)\n",
        "testing_mse_lasso = mean_squared_error(y_test, y_test_pred_lasso)\n",
        "print(\"Testing MSE for Lasso model:\", testing_mse_lasso)"
      ],
      "metadata": {
        "colab": {
          "base_uri": "https://localhost:8080/"
        },
        "id": "Jm8RDF5_8bYv",
        "outputId": "24472355-a0fc-4a08-9445-25b4ed8b25d8"
      },
      "execution_count": null,
      "outputs": [
        {
          "output_type": "stream",
          "name": "stdout",
          "text": [
            "Testing MSE for Lasso model: 0.6212875448834096\n"
          ]
        }
      ]
    },
    {
      "cell_type": "code",
      "source": [],
      "metadata": {
        "colab": {
          "base_uri": "https://localhost:8080/"
        },
        "id": "1Xq1TaR089lT",
        "outputId": "6fb0e4c5-598e-42ab-c554-3dfbd5005d43"
      },
      "execution_count": null,
      "outputs": [
        {
          "output_type": "stream",
          "name": "stdout",
          "text": [
            "Model: Ridge\n",
            "Training MSE: 0.03998637919597087\n",
            "Testing MSE: 0.6273531237788174\n",
            "------------------------------\n",
            "Model: Lasso\n",
            "Training MSE: 0.0469446388604385\n",
            "Testing MSE: 0.6212875448834096\n",
            "------------------------------\n"
          ]
        }
      ]
    },
    {
      "cell_type": "markdown",
      "source": [
        "Based on the values of the Ridge model’s variable coefficients, which indicator is the best predictor of the target variable?\n",
        "\n",
        "Value of Imports (ZAR)\n",
        "Value of Exports (ZAR)\n",
        "Liabilities to Non-residents (USD)\n",
        "\n",
        "*   Government Bonds\n",
        "*   Value of Imports (ZAR)\n",
        "*   Value of Exports (ZAR)\n",
        "*   Liabilities to Non-residents (USD)\n",
        "  \n",
        "\n"
      ],
      "metadata": {
        "id": "FsRgOYWmAceO"
      }
    },
    {
      "cell_type": "code",
      "source": [
        "# Extract coefficients and feature names\n",
        "coefficients = ridge_model.coef_\n",
        "feature_names = X.columns\n",
        "\n",
        "# Create a DataFrame to view coefficients\n",
        "coefficients_df = pd.DataFrame({'Feature': feature_names, 'Coefficient': coefficients})\n",
        "\n",
        "# Print coefficients\n",
        "print(coefficients_df)\n",
        "\n",
        "# Identify the feature with the highest absolute coefficient value\n",
        "best_predictor = coefficients_df.loc[coefficients_df['Coefficient'].abs().idxmax()]\n",
        "\n",
        "print(f\"The best predictor is '{best_predictor['Feature']}' with a coefficient value of {best_predictor['Coefficient']}.\")"
      ],
      "metadata": {
        "colab": {
          "base_uri": "https://localhost:8080/"
        },
        "id": "50pRRrJM_LKX",
        "outputId": "1f7d6eda-20ca-4e53-99d3-79d2e86d5454"
      },
      "execution_count": null,
      "outputs": [
        {
          "output_type": "stream",
          "name": "stdout",
          "text": [
            "                                    Feature  Coefficient\n",
            "0                    Value of Exports (USD)    -0.639615\n",
            "1                    Value of Exports (ZAR)     0.943210\n",
            "2                    Value of Imports (USD)    -0.697817\n",
            "3                    Value of Imports (ZAR)     0.885124\n",
            "4                IMF Reserve Position (USD)    -0.038984\n",
            "5                    Foreign Exchange (USD)     0.136498\n",
            "6             Claims on Non-residents (USD)     0.054841\n",
            "7        Liabilities to Non-residents (USD)     0.003169\n",
            "8                              Savings Rate    -0.066482\n",
            "9                              Lending Rate     0.558796\n",
            "10                         Government Bonds     0.017588\n",
            "11  Financial Market Prices, Equities Index    -0.116183\n",
            "12                     Consumer Price Index     0.550911\n",
            "The best predictor is 'Value of Exports (ZAR)' with a coefficient value of 0.9432099826936856.\n"
          ]
        }
      ]
    },
    {
      "cell_type": "markdown",
      "source": [
        "## Based on the values of the Ridge model’s variable coefficients, which indicator is the worst predictor of the target variable?\n",
        "\n",
        "\n"
      ],
      "metadata": {
        "id": "kt8IEZKdBxgk"
      }
    },
    {
      "cell_type": "code",
      "source": [
        "# Identify the feature with the smallest absolute coefficient value\n",
        "worst_predictor = coefficients_df.loc[coefficients_df['Coefficient'].abs().idxmin()]\n",
        "\n",
        "print(f\"The worst predictor is '{worst_predictor['Feature']}' with a coefficient value of {worst_predictor['Coefficient']}.\")"
      ],
      "metadata": {
        "colab": {
          "base_uri": "https://localhost:8080/"
        },
        "id": "UtnYQhw6BQGW",
        "outputId": "fda37a43-fd1f-4b66-a623-67c73318b486"
      },
      "execution_count": null,
      "outputs": [
        {
          "output_type": "stream",
          "name": "stdout",
          "text": [
            "The worst predictor is 'Liabilities to Non-residents (USD)' with a coefficient value of 0.003169248838156524.\n"
          ]
        }
      ]
    },
    {
      "cell_type": "markdown",
      "source": [
        "## Based on the values of the LASSO model’s variable coefficients, which indicator is the best predictor of the target variable?\n",
        "\n"
      ],
      "metadata": {
        "id": "vrE4tYhpCcVy"
      }
    },
    {
      "cell_type": "code",
      "source": [
        "# Extract coefficients and feature names\n",
        "coefficients = lasso_model.coef_\n",
        "feature_names = X.columns\n",
        "\n",
        "# Create a DataFrame to view coefficients\n",
        "coefficients_df = pd.DataFrame({'Feature': feature_names, 'Coefficient': coefficients})\n",
        "\n",
        "# Print coefficients\n",
        "print(coefficients_df)\n",
        "\n",
        "# Identify the feature with the highest absolute coefficient value\n",
        "best_predictor = coefficients_df.loc[coefficients_df['Coefficient'].abs().idxmax()]\n",
        "\n",
        "print(f\"The best predictor according to the LASSO model is '{best_predictor['Feature']}' with a coefficient value of {best_predictor['Coefficient']}.\")"
      ],
      "metadata": {
        "colab": {
          "base_uri": "https://localhost:8080/"
        },
        "id": "R6GLVwFrCFKK",
        "outputId": "c0c915ab-eba2-49ca-e9c6-f4b3ee35dc7f"
      },
      "execution_count": null,
      "outputs": [
        {
          "output_type": "stream",
          "name": "stdout",
          "text": [
            "                                    Feature  Coefficient\n",
            "0                    Value of Exports (USD)    -0.663943\n",
            "1                    Value of Exports (ZAR)     1.028572\n",
            "2                    Value of Imports (USD)    -0.703570\n",
            "3                    Value of Imports (ZAR)     0.931447\n",
            "4                IMF Reserve Position (USD)    -0.000000\n",
            "5                    Foreign Exchange (USD)     0.029681\n",
            "6             Claims on Non-residents (USD)     0.012059\n",
            "7        Liabilities to Non-residents (USD)     0.022318\n",
            "8                              Savings Rate     0.000000\n",
            "9                              Lending Rate     0.273183\n",
            "10                         Government Bonds    -0.000000\n",
            "11  Financial Market Prices, Equities Index    -0.046981\n",
            "12                     Consumer Price Index     0.324598\n",
            "The best predictor according to the LASSO model is 'Value of Exports (ZAR)' with a coefficient value of 1.0285722610690782.\n"
          ]
        }
      ]
    },
    {
      "cell_type": "code",
      "source": [],
      "metadata": {
        "id": "vUcbu7grCsl8"
      },
      "execution_count": null,
      "outputs": []
    },
    {
      "cell_type": "markdown",
      "source": [
        "## How many variables have coefficients equal to zero in the LASSO model?"
      ],
      "metadata": {
        "id": "8MraICQUC2Cy"
      }
    },
    {
      "cell_type": "code",
      "source": [
        "# Count the number of variables with coefficients equal to zero\n",
        "num_zero_coefficients = (coefficients == 0).sum()\n",
        "\n",
        "print(f\"Number of variables with coefficients equal to zero in the LASSO model: {num_zero_coefficients}\")"
      ],
      "metadata": {
        "colab": {
          "base_uri": "https://localhost:8080/"
        },
        "id": "MWrqDxPJC4kI",
        "outputId": "2a16859e-4fa9-4861-8e72-3cb0cd0e4b0b"
      },
      "execution_count": null,
      "outputs": [
        {
          "output_type": "stream",
          "name": "stdout",
          "text": [
            "Number of variables with coefficients equal to zero in the LASSO model: 3\n"
          ]
        }
      ]
    },
    {
      "cell_type": "code",
      "source": [],
      "metadata": {
        "id": "NhL3xjjSDC34"
      },
      "execution_count": null,
      "outputs": []
    }
  ]
}